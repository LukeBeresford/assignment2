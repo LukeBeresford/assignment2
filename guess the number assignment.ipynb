{
 "cells": [
  {
   "cell_type": "code",
   "execution_count": 2,
   "metadata": {},
   "outputs": [
    {
     "name": "stdout",
     "output_type": "stream",
     "text": [
      "Dayuuum your number is way to low, You aint flo ride my guy\n",
      "Dayuuum your number is way to high, You aint snoop dogg my guy\n",
      "Dayuuum your number is way to high, You aint snoop dogg my guy\n",
      "Dayuuum your number is way to low, You aint flo ride my guy\n",
      "Dayuuum your number is way to low, You aint flo ride my guy\n",
      "You won!\n"
     ]
    }
   ],
   "source": [
    "#Guess the number game \n",
    "\n",
    "import random                            # Import random is a funtion to generate random integers\n",
    "\n",
    "num = random.randint (1, 10)             # num = random.rand\n",
    "guess = None\n",
    "while guess != num:\n",
    "    guess = int(input(\"pick a number from 1 to 10\"))\n",
    "\n",
    "    if guess == num:\n",
    "        print(\"You won!\")\n",
    "\n",
    "    elif guess < num:\n",
    "        print(\"Dayuuum your number is way to low, You aint flo ride my guy\")\n",
    "\n",
    "    elif guess > num:\n",
    "        print(\"Dayuuum your number is way to high, You aint snoop dogg my guy\")"
   ]
  }
 ],
 "metadata": {
  "kernelspec": {
   "display_name": "Python 3.10.7 64-bit (microsoft store)",
   "language": "python",
   "name": "python3"
  },
  "language_info": {
   "codemirror_mode": {
    "name": "ipython",
    "version": 3
   },
   "file_extension": ".py",
   "mimetype": "text/x-python",
   "name": "python",
   "nbconvert_exporter": "python",
   "pygments_lexer": "ipython3",
   "version": "3.10.7"
  },
  "orig_nbformat": 4,
  "vscode": {
   "interpreter": {
    "hash": "4deb986f3ce6d39d52ae36d5b72d27b1f73a8b6b686c07859b235a0545bfc1d1"
   }
  }
 },
 "nbformat": 4,
 "nbformat_minor": 2
}
